{
 "cells": [
  {
   "cell_type": "markdown",
   "id": "97edd8f4-2f3c-4723-8e16-ef94472c879c",
   "metadata": {},
   "source": [
    "# 퍼셉트론"
   ]
  },
  {
   "cell_type": "code",
   "execution_count": 8,
   "id": "c290dc13-5351-46eb-a416-bb1fa72a5685",
   "metadata": {},
   "outputs": [
    {
     "data": {
      "image/png": "[encoded data removed]",
      "text/plain": [
       "<IPython.core.display.Image object>"
      ]
     },
     "execution_count": 8,
     "metadata": {},
     "output_type": "execute_result"
    }
   ],
   "source": [
    "from IPython.display import Image\n",
    "Image('퍼셉트론.png')"
   ]
  },
  {
   "cell_type": "markdown",
   "id": "20f6e088-6af9-4820-a639-1a45329cd4cc",
   "metadata": {},
   "source": [
    "* x1, x2는 입력신호\n",
    "* y는 출력 신호\n",
    "* w1, w2는 가중치\n",
    "* θ는 임계값으로 입력신호에 가중치를 곱한 총합이 임계값을 넘어서면 1 아니면 0 출력"
   ]
  },
  {
   "cell_type": "markdown",
   "id": "7d0356a9-e937-4548-8187-61b6196ab78d",
   "metadata": {},
   "source": [
    "# 단순한 논리 회로"
   ]
  },
  {
   "cell_type": "markdown",
   "id": "80881b94-4948-4209-9a96-8c0c0412db19",
   "metadata": {},
   "source": [
    "* 진리표(AND, NAND, OR, XOR)"
   ]
  },
  {
   "cell_type": "code",
   "execution_count": 11,
   "id": "ccf796df-1c46-4f41-83c6-44027dcf6e2e",
   "metadata": {},
   "outputs": [
    {
     "data": {
      "image/png": "[encoded data removed]",
      "text/plain": [
       "<IPython.core.display.Image object>"
      ]
     },
     "execution_count": 11,
     "metadata": {},
     "output_type": "execute_result"
    }
   ],
   "source": [
    "Image('진리표.png')"
   ]
  },
  {
   "cell_type": "markdown",
   "id": "5d1f6105-3201-4fc5-9cb3-bc670bf9fa0b",
   "metadata": {},
   "source": [
    "* 진리표대로 작동하도록하는 w1, w2, θ값을 정해야 함"
   ]
  },
  {
   "cell_type": "markdown",
   "id": "74375a3b-fd7a-4af5-a75f-a8d87f222f08",
   "metadata": {},
   "source": [
    "* AND게이트"
   ]
  },
  {
   "cell_type": "code",
   "execution_count": 24,
   "id": "edc0e012-e328-43ce-ad1a-3be13740077d",
   "metadata": {},
   "outputs": [
    {
     "name": "stdout",
     "output_type": "stream",
     "text": [
      "AND(0,0) = 0\n",
      "AND(1,0) = 0\n",
      "AND(0,1) = 0\n",
      "AND(1,1) = 1\n"
     ]
    }
   ],
   "source": [
    "def AND(x1, x2):\n",
    "    w1, w2, theta = 0.5, 0.5, 0.7\n",
    "    tmp = x1*w1 + x2*w2\n",
    "    if tmp <= theta:\n",
    "        return 0\n",
    "    else:\n",
    "        return 1\n",
    "\n",
    "\n",
    "for x in [(0, 0), (1, 0), (0, 1), (1, 1)]:\n",
    "    print(f\"AND({x[0]},{x[1]}) =\", AND(x[0], x[1]))"
   ]
  },
  {
   "cell_type": "markdown",
   "id": "a9d68416-0113-44a0-9558-1446d83de1eb",
   "metadata": {},
   "source": [
    "* 가중치와 편향 도입한 AND게이트"
   ]
  },
  {
   "cell_type": "code",
   "execution_count": 1,
   "id": "67698a67-8291-4acd-8cb8-371224ce4223",
   "metadata": {},
   "outputs": [
    {
     "name": "stdout",
     "output_type": "stream",
     "text": [
      "(0, 0) -> 0\n",
      "(1, 0) -> 0\n",
      "(0, 1) -> 0\n",
      "(1, 1) -> 1\n"
     ]
    }
   ],
   "source": [
    "import numpy as np\n",
    "\n",
    "def AND(x1, x2):\n",
    "    x = np.array([x1, x2])\n",
    "    w = np.array([0.5, 0.5])\n",
    "    b = -0.7 # theta = -b\n",
    "    tmp = np.sum(w*x) + b\n",
    "    if tmp <= 0:\n",
    "        return 0\n",
    "    else:\n",
    "        return 1\n",
    "\n",
    "for xs in [(0, 0), (1, 0), (0, 1), (1, 1)]:\n",
    "    y = AND(xs[0], xs[1])\n",
    "    print(str(xs) + \" -> \" + str(y))"
   ]
  },
  {
   "cell_type": "markdown",
   "id": "261a5539-9e2e-419f-9ccf-cca74f177cfc",
   "metadata": {},
   "source": [
    "* NAND, OR 게이트"
   ]
  },
  {
   "cell_type": "code",
   "execution_count": 2,
   "id": "1b8dcfcb-5600-43fe-806d-859678def7c2",
   "metadata": {},
   "outputs": [
    {
     "name": "stdout",
     "output_type": "stream",
     "text": [
      "NAND (0, 0) -> 1\n",
      "NAND (1, 0) -> 1\n",
      "NAND (0, 1) -> 1\n",
      "NAND (1, 1) -> 0\n",
      "\n",
      "\n",
      "OR (0, 0) -> 0\n",
      "OR (1, 0) -> 1\n",
      "OR (0, 1) -> 1\n",
      "OR (1, 1) -> 1\n"
     ]
    }
   ],
   "source": [
    "def NAND(x1, x2):\n",
    "    x = np.array([x1, x2])\n",
    "    w = np.array([-0.5, -0.5])\n",
    "    b = 0.7 \n",
    "    tmp = np.sum(w*x) + b\n",
    "    if tmp <= 0:\n",
    "        return 0\n",
    "    else:\n",
    "        return 1\n",
    "\n",
    "def OR(x1, x2):\n",
    "    x = np.array([x1, x2])\n",
    "    w = np.array([0.5, 0.5])\n",
    "    b = -0.2 \n",
    "    tmp = np.sum(w*x) + b\n",
    "    if tmp <= 0:\n",
    "        return 0\n",
    "    else:\n",
    "        return 1\n",
    "\n",
    "for xs in [(0, 0), (1, 0), (0, 1), (1, 1)]:\n",
    "    y = NAND(xs[0], xs[1])\n",
    "    print(\"NAND\",str(xs) + \" -> \" + str(y))\n",
    "print(\"\\n\")    \n",
    "for xs in [(0, 0), (1, 0), (0, 1), (1, 1)]:\n",
    "    y = OR(xs[0], xs[1])\n",
    "    print(\"OR\",str(xs) + \" -> \" + str(y))"
   ]
  },
  {
   "cell_type": "markdown",
   "id": "019b8495-1c00-4c46-9720-4501c314b19f",
   "metadata": {},
   "source": [
    "## XOR 게이트, 다층 퍼셉트론\n",
    "* XOR게이트는 다층 퍼셉트론으로 표현 가능(AND게이트 입력신호로 NAND와 OR게이트의 출력신호를 입력)"
   ]
  },
  {
   "cell_type": "code",
   "execution_count": 3,
   "id": "0de3a5c3-9897-49a6-8747-c1fe0ea093fd",
   "metadata": {},
   "outputs": [
    {
     "name": "stdout",
     "output_type": "stream",
     "text": [
      "XOR (0, 0) -> 0\n",
      "XOR (1, 0) -> 1\n",
      "XOR (0, 1) -> 1\n",
      "XOR (1, 1) -> 0\n"
     ]
    }
   ],
   "source": [
    "def XOR(x1, x2):\n",
    "    s1 = NAND(x1, x2)\n",
    "    s2 = OR(x1, x2)\n",
    "    y = AND(s1, s2)\n",
    "    return y\n",
    "\n",
    "\n",
    "for xs in [(0, 0), (1, 0), (0, 1), (1, 1)]:\n",
    "    y = XOR(xs[0], xs[1])\n",
    "    print(\"XOR\",str(xs) + \" -> \" + str(y))"
   ]
  },
  {
   "cell_type": "code",
   "execution_count": null,
   "id": "92e16610-f4e3-4dce-96f9-2e6b9fc32b7f",
   "metadata": {},
   "outputs": [],
   "source": []
  }
 ],
 "metadata": {
  "kernelspec": {
   "display_name": "Python 3 (ipykernel)",
   "language": "python",
   "name": "python3"
  },
  "language_info": {
   "codemirror_mode": {
    "name": "ipython",
    "version": 3
   },
   "file_extension": ".py",
   "mimetype": "text/x-python",
   "name": "python",
   "nbconvert_exporter": "python",
   "pygments_lexer": "ipython3",
   "version": "3.11.5"
  }
 },
 "nbformat": 4,
 "nbformat_minor": 5
}
