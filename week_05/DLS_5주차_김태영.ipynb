{
 "cells": [
  {
   "cell_type": "markdown",
   "id": "4a8160a3-679a-424f-892d-bd0763ebad81",
   "metadata": {},
   "source": [
    "# 5.1.계산 그래프."
   ]
  },
  {
   "cell_type": "markdown",
   "id": "5b6b26b0-8cc2-4d0d-a660-00759e120fb9",
   "metadata": {},
   "source": [
    "- 순전파forward propagation : 계산을 왼쪽에서 오른쪽으로 진행\n",
    "- 역전파backward propagation : 계산을 반대 방향으로 진행. 미분을 효율적으로 계산할 수 있다."
   ]
  },
  {
   "cell_type": "markdown",
   "id": "fa04ebc9-62b8-44a0-84bd-fd77e5f6f72f",
   "metadata": {},
   "source": [
    "- 전체 계산이 복잡하더라도 각 단계의 일은 해당 노드의 국소적 계산이다."
   ]
  },
  {
   "cell_type": "markdown",
   "id": "04cfbb81-b5d1-4ca1-8e7f-574efa0abd89",
   "metadata": {},
   "source": [
    "- 계산 그래프의 역전파를 이용해서 구할 수 있다."
   ]
  },
  {
   "cell_type": "markdown",
   "id": "147d61a2-a178-4fa6-9c58-cd3d7d8f77c5",
   "metadata": {},
   "source": [
    "# 5.2.연쇄법칙"
   ]
  },
  {
   "cell_type": "markdown",
   "id": "0416e246-415b-4e7e-aae7-8080824582c2",
   "metadata": {},
   "source": [
    "- 합성 함수 : 여러 함수로 구성된 함수\n",
    "- 연쇄법칙 : 합성 함수의 미분은 합성 함수를 구성하는 각 함수의 미분의 곱으로 나타낼 수 있다."
   ]
  },
  {
   "cell_type": "markdown",
   "id": "77e065b8-d843-4379-8388-bba007e8818d",
   "metadata": {},
   "source": [
    "# 5.4.단순한 계층 구현하기"
   ]
  },
  {
   "cell_type": "code",
   "execution_count": 8,
   "id": "185708bb-838e-4089-a6e1-e272961f4c75",
   "metadata": {},
   "outputs": [],
   "source": [
    "class MulLayer:\n",
    "    def __init__(self):\n",
    "        self.x = None\n",
    "        self.y = None\n",
    "\n",
    "    def forward(self, x, y):\n",
    "        self.x = x\n",
    "        self.y = y\n",
    "        out = x * y\n",
    "        return out\n",
    "\n",
    "    def backward(self, dout):\n",
    "        dx = dout * self.y\n",
    "        dy = dout * self.x\n",
    "        return dx, dy\n",
    "\n",
    "class AddLayer:\n",
    "    def __init__(self):\n",
    "        pass\n",
    "\n",
    "    def forward(self, x, y):\n",
    "        out = x + y\n",
    "        return out\n",
    "\n",
    "    def backward(self, dout):\n",
    "        dx = dout * 1\n",
    "        dy = dout * 1\n",
    "        return dx, dy"
   ]
  },
  {
   "cell_type": "code",
   "execution_count": 11,
   "id": "5c6905df-a1c4-4ddc-9da0-ed0ddacf2f02",
   "metadata": {},
   "outputs": [
    {
     "name": "stdout",
     "output_type": "stream",
     "text": [
      "220.00000000000003\n",
      "2.2 110.00000000000001 200\n",
      "715.0000000000001\n",
      "110.00000000000001 2.2 3.3000000000000003 165.0 650\n"
     ]
    }
   ],
   "source": [
    "if __name__ == '__main__':\n",
    "    # 문제1의 예시\n",
    "    apple = 100\n",
    "    apple_num = 2\n",
    "    tax = 1.1\n",
    "\n",
    "    # 계층들\n",
    "    mul_apple_layer = MulLayer()\n",
    "    mul_tax_layer = MulLayer()\n",
    "\n",
    "    # 순전파\n",
    "    apple_price = mul_apple_layer.forward(apple, apple_num)\n",
    "    price = mul_tax_layer.forward(apple_price, tax)\n",
    "\n",
    "    print(price)  # 220.0\n",
    "\n",
    "     # 역전파\n",
    "    dprice = 1\n",
    "    dapple_price, dtax = mul_tax_layer.backward(dprice)\n",
    "    dapple, dapple_num = mul_apple_layer.backward(dapple_price)\n",
    "\n",
    "    print(dapple, dapple_num, dtax)  # 2.2 110.0 200\n",
    "\n",
    "    # 문제2의 예시\n",
    "    orange = 150\n",
    "    orange_num = 3\n",
    "\n",
    "    # 계층들\n",
    "    mul_apple_layer = MulLayer()\n",
    "    mul_orange_layer = MulLayer()\n",
    "    add_apple_orange_layer = AddLayer()\n",
    "    mul_tax_layer = MulLayer()\n",
    "\n",
    "    # 순전파\n",
    "    apple_price = mul_apple_layer.forward(apple, apple_num)\n",
    "    orange_price = mul_orange_layer.forward(orange, orange_num)\n",
    "    all_price = add_apple_orange_layer.forward(apple_price, orange_price)\n",
    "    price = mul_tax_layer.forward(all_price, tax)\n",
    "\n",
    "    print(price)  # 715.0\n",
    "\n",
    "    # 역전파\n",
    "    dprice = 1\n",
    "    dall_price, dtax = mul_tax_layer.backward(dprice)\n",
    "    dapple_price, dorange_price = add_apple_orange_layer.backward(dall_price)\n",
    "    dornage, dorange_num = mul_orange_layer.backward(dorange_price)\n",
    "    dapple, dapple_num = mul_apple_layer.backward(dapple_price)\n",
    "\n",
    "    print(dapple_num, dapple, dornage, dorange_num, dtax)\n"
   ]
  },
  {
   "cell_type": "markdown",
   "id": "b2d2757a-dbe4-4e40-8f4d-ae6c92823e32",
   "metadata": {},
   "source": [
    "# 5.5.활성화 함수 계층 구현하기"
   ]
  },
  {
   "cell_type": "code",
   "execution_count": 12,
   "id": "aa8bce85-f824-4a6d-826f-cf39b3b1ea18",
   "metadata": {},
   "outputs": [],
   "source": [
    "import numpy as np"
   ]
  },
  {
   "cell_type": "code",
   "execution_count": 15,
   "id": "1913479d-a0a0-42e1-a8a2-57f7e8272fc9",
   "metadata": {},
   "outputs": [],
   "source": [
    "class Relu:\n",
    "    def __init__(self):\n",
    "        self.mask = None\n",
    "\n",
    "    def forward(self, x):\n",
    "        self.mask = (x <= 0)\n",
    "        out = x.copy()\n",
    "        out[self.mask] = 0\n",
    "\n",
    "        return out\n",
    "\n",
    "    def backward(self, dout):\n",
    "        dout[self.mask] = 0\n",
    "        dx = dout\n",
    "\n",
    "        return dx\n"
   ]
  },
  {
   "cell_type": "code",
   "execution_count": 16,
   "id": "64444eb4-3a35-4722-a380-2cb177e9c739",
   "metadata": {},
   "outputs": [],
   "source": [
    "class Sigmoid:\n",
    "    def __init__(self):\n",
    "        self.out = None\n",
    "\n",
    "    def forward(self, x):\n",
    "        out = 1 / (1 + np.exp(-x))\n",
    "        self.out = out\n",
    "\n",
    "        return out\n",
    "\n",
    "    def backward(self, dout):\n",
    "        dx = dout * (1.0 - self.out) * self.out\n",
    "\n",
    "        return dx\n"
   ]
  },
  {
   "cell_type": "markdown",
   "id": "d4ff7049-a475-4360-94f2-85468ba7fea2",
   "metadata": {},
   "source": [
    "# 5.6 Affine/Softmax 계층 구현하기"
   ]
  },
  {
   "cell_type": "code",
   "execution_count": 17,
   "id": "2a80b3d1-8d2c-4fdb-8f16-636bbc8f350d",
   "metadata": {},
   "outputs": [
    {
     "name": "stdout",
     "output_type": "stream",
     "text": [
      "(2,)\n",
      "(2, 3)\n",
      "(3,)\n"
     ]
    }
   ],
   "source": [
    "X = np.random.rand(2)     # 입력\n",
    "W = np.random.rand(2, 3)  # 가중치\n",
    "B = np.random.rand(3)     # 편향\n",
    "\n",
    "print(X.shape)  # (2,)\n",
    "print(W.shape)  # (2, 3)\n",
    "print(B.shape)  # (3,)"
   ]
  },
  {
   "cell_type": "code",
   "execution_count": 18,
   "id": "30e44af0-74a0-4bbf-869c-5898f11e7dfe",
   "metadata": {},
   "outputs": [
    {
     "name": "stdout",
     "output_type": "stream",
     "text": [
      "[[ 0  0  0]\n",
      " [10 10 10]]\n",
      "[[ 1  2  3]\n",
      " [11 12 13]]\n",
      "[[1 2 3]\n",
      " [4 5 6]]\n",
      "[5 7 9]\n"
     ]
    }
   ],
   "source": [
    "if __name__ == '__main__':\n",
    "    X_dot_W = np.array([[0, 0, 0], [10, 10, 10]])\n",
    "    B = np.array([1, 2, 3])\n",
    "    print(X_dot_W)\n",
    "    \"\"\"\n",
    "    [[ 0  0  0]\n",
    "     [10 10 10]]\n",
    "    \"\"\"\n",
    "    print(X_dot_W + B)\n",
    "    \n",
    "    dY = np.array([[1, 2, 3], [4, 5, 6]])\n",
    "    print(dY)\n",
    "    \"\"\"\n",
    "    [[1 2 3]\n",
    "     [4 5 6]]\n",
    "    \"\"\"\n",
    "    dB = np.sum(dY, axis=0)\n",
    "    print(dB)  # [5 7 9]"
   ]
  },
  {
   "cell_type": "code",
   "execution_count": 19,
   "id": "130a3696-0656-486e-b665-a4cb835782dc",
   "metadata": {},
   "outputs": [],
   "source": [
    "class Affine:\n",
    "    def __init__(self, W, b):\n",
    "        self.W = W\n",
    "        self.b = b\n",
    "        self.x = None\n",
    "        self.dW = None\n",
    "        self.db = None\n",
    "\n",
    "    def forward(self, x):\n",
    "        self.x = x\n",
    "        out = np.dot(x, self.W) + self.b\n",
    "\n",
    "        return out\n",
    "\n",
    "    def backward(self, dout):\n",
    "        dx = np.dot(dout, self.W.T)\n",
    "        self.dW = np.dot(self.x.T, dout)\n",
    "        self.db = np.sum(dout, axis=0)\n",
    "\n",
    "        return dx"
   ]
  },
  {
   "cell_type": "code",
   "execution_count": 20,
   "id": "d783738b-cb41-40d0-8cb1-58b766479791",
   "metadata": {},
   "outputs": [],
   "source": [
    "def softmax(a):\n",
    "    c = np.max(a)\n",
    "    exp_a = np.exp(a - c)  # 오버플로 대책\n",
    "    sum_exp_a = np.sum(exp_a)\n",
    "    y = exp_a / sum_exp_a\n",
    "\n",
    "    return y\n",
    "\n",
    "\n",
    "def cross_entropy_error(y, t):\n",
    "    delta = 1e-7  # 0일때 -무한대가 되지 않기 위해 작은 값을 더함\n",
    "    return -np.sum(t * np.log(y + delta))\n",
    "\n",
    "\n",
    "class SoftmaxWithLoss:\n",
    "    def __init__(self):\n",
    "        self.loss = None  # 손실\n",
    "        self.y = None     # softmax의 출력\n",
    "        self.t = None     # 정답 레이블(원-핫 벡터)\n",
    "\n",
    "    def forward(self, x, t):\n",
    "        self.t = t\n",
    "        self.y = softmax(x)  # 3.5.2, 4.2.2에서 구현\n",
    "        self.loss = cross_entropy_error(self.y, self.t)\n",
    "\n",
    "        return self.loss\n",
    "\n",
    "    def backward(self, dout=1):\n",
    "        batch_size = self.t.shape[0]\n",
    "        dx = self.y - self.t / batch_size\n",
    "\n",
    "        return dx\n"
   ]
  },
  {
   "cell_type": "code",
   "execution_count": 21,
   "id": "8d0059b0-dd32-4f5e-ade8-ab44c79b3d1d",
   "metadata": {},
   "outputs": [
    {
     "name": "stdout",
     "output_type": "stream",
     "text": [
      "0.007620616629495912\n",
      "[0.00090496 0.65907491 0.00668679]\n",
      "5.0076057626568575\n",
      "[ 9.04959183e-04 -3.26646539e-01  9.92408247e-01]\n"
     ]
    }
   ],
   "source": [
    "if __name__ == '__main__':\n",
    "    swl = SoftmaxWithLoss()\n",
    "    a = np.array([1, 8, 3])   # 비슷하게 맞춤\n",
    "    t = np.array([0, 1, 0])\n",
    "    print(swl.forward(a, t))  # 0.0076206166295\n",
    "    print(swl.backward())     # [ 0.00090496  0.65907491  0.00668679]\n",
    "\n",
    "    a = np.array([1, 3, 8])   # 오차가 큼\n",
    "    print(swl.forward(a, t))  # 5.00760576266\n",
    "    print(swl.backward())   # [  9.04959183e-04 -3.26646539e-01 9.92408247e-01]"
   ]
  },
  {
   "cell_type": "markdown",
   "id": "7072944c-c121-48b2-854b-9f831a6e69cb",
   "metadata": {},
   "source": [
    "# 5.7. 오차역전파법 구현하기"
   ]
  },
  {
   "cell_type": "code",
   "execution_count": 25,
   "id": "6c188d23-f78c-4ae7-b2d8-cb02a65b3f27",
   "metadata": {},
   "outputs": [],
   "source": [
    "import sys\n",
    "import os\n",
    "import numpy as np\n",
    "from collections import OrderedDict\n",
    "sys.path.append(os.pardir)\n",
    "from common.layers import *\n",
    "from common.gradient import numerical_gradient\n",
    "from dataset.mnist import load_mnist\n",
    "\n",
    "class TwoLayerNet:\n",
    "    def __init__(self, input_size, hidden_size, output_size,\n",
    "        weight_init_std=0.01):\n",
    "        # 가중치 초기화\n",
    "        self.params = {}\n",
    "        self.params['W1'] = weight_init_std * \\\n",
    "            np.random.randn(input_size, hidden_size)\n",
    "        self.params['b1'] = np.zeros(hidden_size)\n",
    "        self.params['W2'] = weight_init_std * \\\n",
    "            np.random.randn(hidden_size, output_size)\n",
    "        self.params['b2'] = np.zeros(output_size)\n",
    "\n",
    "        # 계층 생성\n",
    "        self.layers = OrderedDict()\n",
    "        self.layers['Affine1'] = \\\n",
    "            Affine(self.params['W1'], self.params['b1'])\n",
    "        self.layers['Relu1'] = Relu()\n",
    "        self.layers['Affine2'] = \\\n",
    "            Affine(self.params['W2'], self.params['b2'])\n",
    "        self.lastLayer = SoftmaxWithLoss()\n",
    "\n",
    "    def predict(self, x):\n",
    "        for layer in self.layers.values():\n",
    "            x = layer.forward(x)\n",
    "\n",
    "        return x\n",
    "\n",
    "    # x : 입력 데이터, t : 정답 레이블\n",
    "    def loss(self, x, t):\n",
    "        y = self.predict(x)\n",
    "        return self.lastLayer.forward(y, t)\n",
    "\n",
    "    def accuracy(self, x, t):\n",
    "        y = self.predict(x)\n",
    "        y = np.argmax(y, axis=1)\n",
    "        if t.ndim != 1:\n",
    "            t = np.argmax(t, axis=1)\n",
    "\n",
    "        accuracy = np.sum(y == t) / float(x.shape[0])\n",
    "        return accuracy\n",
    "\n",
    "    def numerical_gradient(self, x, t):\n",
    "        loss_W = lambda W: self.loss(x, t)\n",
    "\n",
    "        grads = {}\n",
    "        grads['W1'] = numerical_gradient(loss_W, self.params['W1'])\n",
    "        grads['b1'] = numerical_gradient(loss_W, self.params['b1'])\n",
    "        grads['W2'] = numerical_gradient(loss_W, self.params['W2'])\n",
    "        grads['b2'] = numerical_gradient(loss_W, self.params['b2'])\n",
    "\n",
    "        return grads\n",
    "\n",
    "    def gradient(self, x, t):\n",
    "        # 순전파\n",
    "        self.loss(x, t)\n",
    "\n",
    "        # 역전파\n",
    "        dout = 1\n",
    "        dout = self.lastLayer.backward(dout)\n",
    "\n",
    "        layers = list(self.layers.values())\n",
    "        layers.reverse()\n",
    "        for layer in layers:\n",
    "            dout = layer.backward(dout)\n",
    "\n",
    "        # 결과 저장\n",
    "        grads = {}\n",
    "        grads['W1'] = self.layers['Affine1'].dW\n",
    "        grads['b1'] = self.layers['Affine1'].db\n",
    "        grads['W2'] = self.layers['Affine2'].dW\n",
    "        grads['b2'] = self.layers['Affine2'].db\n",
    "\n",
    "        return grads"
   ]
  },
  {
   "cell_type": "code",
   "execution_count": 26,
   "id": "ab6c2d9f-b455-4cb4-af04-b6ae893d67b5",
   "metadata": {},
   "outputs": [
    {
     "name": "stdout",
     "output_type": "stream",
     "text": [
      "W1:1.9625690324904947e-13\n",
      "b1:7.998845249351793e-13\n",
      "W2:7.806384694480223e-13\n",
      "b2:1.2057022324984955e-10\n"
     ]
    }
   ],
   "source": [
    "if __name__ == '__main__':\n",
    "    # 데이터 읽기\n",
    "    (x_train, t_train), (x_test, t_test) = \\\n",
    "        load_mnist(normalize=True, one_hot_label=True)\n",
    "\n",
    "    network = TwoLayerNet(input_size=784, hidden_size=50, output_size=10)\n",
    "\n",
    "    x_batch = x_train[:3]\n",
    "    t_batch = t_train[:3]\n",
    "\n",
    "    grad_numerical = network.numerical_gradient(x_batch, t_batch)\n",
    "    grad_backprop = network.gradient(x_batch, t_batch)\n",
    "\n",
    "    # 각 가중치의 차이의 절댓값을 구한 후, 그 절댓값들의 평균을 낸다.\n",
    "    for key in grad_numerical.keys():\n",
    "        diff = np.average(np.abs(grad_backprop[key] - grad_numerical[key]))\n",
    "        print(key + \":\" + str(diff))"
   ]
  },
  {
   "cell_type": "code",
   "execution_count": 28,
   "id": "405e1033-9d36-4d87-accb-4fc08d24b2f0",
   "metadata": {},
   "outputs": [
    {
     "name": "stdout",
     "output_type": "stream",
     "text": [
      "train acc, test acc | 0.14758333333333334, 0.1448\n",
      "train acc, test acc | 0.90405, 0.9066\n",
      "train acc, test acc | 0.9233333333333333, 0.9268\n",
      "train acc, test acc | 0.93595, 0.9358\n",
      "train acc, test acc | 0.9444, 0.9441\n",
      "train acc, test acc | 0.9527166666666667, 0.9511\n",
      "train acc, test acc | 0.95775, 0.9557\n",
      "train acc, test acc | 0.9602333333333334, 0.9582\n",
      "train acc, test acc | 0.9646333333333333, 0.962\n",
      "train acc, test acc | 0.9674833333333334, 0.961\n",
      "train acc, test acc | 0.9694666666666667, 0.9645\n",
      "train acc, test acc | 0.9718, 0.966\n",
      "train acc, test acc | 0.9739333333333333, 0.9669\n",
      "train acc, test acc | 0.97465, 0.9682\n",
      "train acc, test acc | 0.9769666666666666, 0.9687\n",
      "train acc, test acc | 0.9772666666666666, 0.9699\n",
      "train acc, test acc | 0.9789166666666667, 0.9706\n"
     ]
    }
   ],
   "source": [
    "import sys\n",
    "import os\n",
    "import numpy as np\n",
    "sys.path.append(os.pardir)\n",
    "from dataset.mnist import load_mnist\n",
    "\n",
    "# 데이터 읽기\n",
    "(x_train, t_train), (x_test, t_test) = \\\n",
    "    load_mnist(normalize=True, one_hot_label=True)\n",
    "network = TwoLayerNet(input_size=784, hidden_size=50, output_size=10)\n",
    "\n",
    "# 하이퍼 파라메터\n",
    "iters_num = 10000  # 반복횟수\n",
    "train_size = x_train.shape[0]\n",
    "batch_size = 100  # 미니배치 크기\n",
    "learning_rate = 0.1\n",
    "\n",
    "train_loss_list = []\n",
    "train_acc_list = []\n",
    "test_acc_list = []\n",
    "\n",
    "# 1에폭당 반복 수\n",
    "iter_per_epoch = max(train_size / batch_size, 1)\n",
    "\n",
    "for i in range(iters_num):\n",
    "    # print(i)\n",
    "    # 미니배치 획득\n",
    "    batch_mask = np.random.choice(train_size, batch_size)\n",
    "    x_batch = x_train[batch_mask]\n",
    "    t_batch = t_train[batch_mask]\n",
    "\n",
    "    # 오차역전파법으로 기울기 계산\n",
    "    grad = network.gradient(x_batch, t_batch)\n",
    "\n",
    "    # 매개변수 갱신\n",
    "    for key in ('W1', 'b1', 'W2', 'b2'):\n",
    "        network.params[key] -= learning_rate * grad[key]\n",
    "\n",
    "    # 학습 경과 기록\n",
    "    loss = network.loss(x_batch, t_batch)\n",
    "    train_loss_list.append(loss)\n",
    "\n",
    "    # 1에폭 당 정확도 계산\n",
    "    if i % iter_per_epoch == 0:\n",
    "        train_acc = network.accuracy(x_train, t_train)\n",
    "        test_acc = network.accuracy(x_test, t_test)\n",
    "        train_acc_list.append(train_acc)\n",
    "        test_acc_list.append(test_acc)\n",
    "        print(\"train acc, test acc | \" + str(train_acc) + \", \" + str(test_acc))"
   ]
  },
  {
   "cell_type": "code",
   "execution_count": null,
   "id": "b947e948-3ef4-4b95-9779-1f64f5d62aed",
   "metadata": {},
   "outputs": [],
   "source": []
  }
 ],
 "metadata": {
  "kernelspec": {
   "display_name": "Python 3 (ipykernel)",
   "language": "python",
   "name": "python3"
  },
  "language_info": {
   "codemirror_mode": {
    "name": "ipython",
    "version": 3
   },
   "file_extension": ".py",
   "mimetype": "text/x-python",
   "name": "python",
   "nbconvert_exporter": "python",
   "pygments_lexer": "ipython3",
   "version": "3.11.5"
  }
 },
 "nbformat": 4,
 "nbformat_minor": 5
}
