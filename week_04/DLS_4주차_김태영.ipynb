{
 "cells": [
  {
   "cell_type": "markdown",
   "id": "13e89d60-ba85-4f55-834c-f627d919c356",
   "metadata": {},
   "source": [
    "# 손실함수 \n",
    "* 평균제곱오차"
   ]
  },
  {
   "cell_type": "code",
   "execution_count": 2,
   "id": "fb76b34d-a295-4be0-9f6c-9d93efc88c75",
   "metadata": {},
   "outputs": [
    {
     "name": "stdout",
     "output_type": "stream",
     "text": [
      "0.09750000000000003\n"
     ]
    }
   ],
   "source": [
    "import numpy as np\n",
    "def mean_squared_error(y, t):\n",
    "    return 0.5 * np.sum((y-t)**2)\n",
    "\n",
    "t = [0, 0, 1, 0, 0, 0, 0, 0, 0, 0]\n",
    "\n",
    "\n",
    "# ex1 '2'일 확률이 가장 높다고 추정함(0.6)\n",
    "y = [0.1, 0.05, 0.6, 0.0, 0.05, 0.1, 0.0, 0.1, 0.0, 0.0]\n",
    "mse = mean_squared_error(np.array(y), np.array(t))\n",
    "print(mse)"
   ]
  },
  {
   "cell_type": "code",
   "execution_count": 4,
   "id": "e1c148e8-5bee-4b27-b8ab-16f1121c6ab9",
   "metadata": {},
   "outputs": [
    {
     "name": "stdout",
     "output_type": "stream",
     "text": [
      "0.5975\n"
     ]
    }
   ],
   "source": [
    "# ex2 '7'일 확률이 가장 높다고 추정함(0.6)\n",
    "y = [0.1, 0.05, 0.1, 0.0, 0.05, 0.1, 0.0, 0.6, 0.0, 0.0]\n",
    "mse = mean_squared_error(np.array(y), np.array(t))\n",
    "print(mse)"
   ]
  },
  {
   "cell_type": "markdown",
   "id": "b4dce40d-b6f5-4d6d-93e7-e8fbb3541eb6",
   "metadata": {},
   "source": [
    "* 교차 엔트로피 오차"
   ]
  },
  {
   "cell_type": "code",
   "execution_count": 5,
   "id": "984a34f7-c127-4e43-a598-d7d0469317d2",
   "metadata": {},
   "outputs": [
    {
     "name": "stdout",
     "output_type": "stream",
     "text": [
      "0.510825457099338\n",
      "2.302584092994546\n"
     ]
    }
   ],
   "source": [
    "def cross_entropy_error(y, t):\n",
    "    delta = 1e-7  # 0일때 -무한대가 되지 않기 위해 작은 값을 더함\n",
    "    return -np.sum(t * np.log(y + delta))\n",
    "\n",
    "t = [0, 0, 1, 0, 0, 0, 0, 0, 0, 0]\n",
    "y = [0.1, 0.05, 0.6, 0.0, 0.05, 0.1, 0.0, 0.1, 0.0, 0.0]\n",
    "cee = cross_entropy_error(np.array(y), np.array(t))\n",
    "print(cee)  # 0.510825457099\n",
    "y = [0.1, 0.05, 0.1, 0.0, 0.05, 0.1, 0.0, 0.6, 0.0, 0.0]\n",
    "cee = cross_entropy_error(np.array(y), np.array(t))\n",
    "print(cee)  # 2.30258409299"
   ]
  },
  {
   "cell_type": "markdown",
   "id": "80240e69-7fdb-4afe-bdf9-85e662e476cd",
   "metadata": {},
   "source": [
    "# 미니배치 학습"
   ]
  },
  {
   "cell_type": "code",
   "execution_count": 6,
   "id": "15805c8e-9910-48ce-ba6a-7de79e8d1306",
   "metadata": {},
   "outputs": [
    {
     "name": "stdout",
     "output_type": "stream",
     "text": [
      "(60000, 784)\n",
      "(60000,)\n"
     ]
    }
   ],
   "source": [
    "import numpy as np\n",
    "import sys\n",
    "from mnist import load_mnist\n",
    "\n",
    "(x_train, t_train), (x_test, t_test) = \\\n",
    "    load_mnist(normalize=True, one_hot_label=False)\n",
    "\n",
    "print(x_train.shape)  # (60000, 784)\n",
    "print(t_train.shape)  # 원-핫 인코딩 된 정답 레이블 (60000, 10)"
   ]
  },
  {
   "cell_type": "code",
   "execution_count": 7,
   "id": "b9584927-79ec-4c7d-b835-fe72ae81dd6c",
   "metadata": {},
   "outputs": [],
   "source": [
    "train_size = x_train.shape[0]\n",
    "batch_size = 10\n",
    "batch_mask = np.random.choice(train_size, batch_size)\n",
    "x_batch = x_train[batch_mask]\n",
    "t_batch = t_train[batch_mask]\n",
    "\n",
    "def cross_entropy_error(y, t):\n",
    "    if y.ndim == 1:\n",
    "        t = t.reshape(1, t.size)\n",
    "        y = y.reshape(1, y.size)\n",
    "\n",
    "    batch_size = y.shape[0]\n",
    "    return -np.sum(t * np.log(y[np.arange(batch_size), t])) / batch_size\n"
   ]
  },
  {
   "cell_type": "markdown",
   "id": "b264be1e-8a9e-444b-af7b-ab6c45c3c6e7",
   "metadata": {},
   "source": [
    "# 수치 미분"
   ]
  },
  {
   "cell_type": "code",
   "execution_count": 8,
   "id": "ff51fa98-1f5b-43e2-87aa-8ccd680bf9bf",
   "metadata": {},
   "outputs": [],
   "source": [
    "import numpy as np\n",
    "import matplotlib.pylab as plt\n",
    "\n",
    "def numerical_diff(f, x):\n",
    "    h = 10e-4\n",
    "    return (f(x + h) - f(x - h)) / (2 * h)"
   ]
  },
  {
   "cell_type": "code",
   "execution_count": 9,
   "id": "f9a0b024-f26c-45f5-b657-4bcb2fab4362",
   "metadata": {},
   "outputs": [
    {
     "data": {
      "text/plain": [
       "[<matplotlib.lines.Line2D at 0x26646718550>]"
      ]
     },
     "execution_count": 9,
     "metadata": {},
     "output_type": "execute_result"
    },
    {
     "data": {
      "image/png": "[encoded data removed]",
      "text/plain": [
       "<Figure size 640x480 with 1 Axes>"
      ]
     },
     "metadata": {},
     "output_type": "display_data"
    }
   ],
   "source": [
    "def function_1(x):\n",
    "    return 0.01*x**2 + 0.1*x\n",
    "\n",
    "\n",
    "x = np.arange(0.0, 20.0, 0.1)  # 0에서 20까지 간격 0.1인 배열 x를 만든다.\n",
    "y = function_1(x)\n",
    "plt.xlabel(\"x\")\n",
    "plt.ylabel(\"f(x)\")\n",
    "plt.plot(x, y)"
   ]
  },
  {
   "cell_type": "code",
   "execution_count": 10,
   "id": "a54ac374-3da3-45a5-8c0e-fc2dc2089bb8",
   "metadata": {},
   "outputs": [
    {
     "name": "stdout",
     "output_type": "stream",
     "text": [
      "0.200000000000089\n",
      "0.29999999999996696\n"
     ]
    }
   ],
   "source": [
    "print(numerical_diff(function_1, 5))   # 0.200000000000089\n",
    "print(numerical_diff(function_1, 10))"
   ]
  },
  {
   "cell_type": "markdown",
   "id": "e792bb4f-ce72-40a2-a83b-23e5e81b9e0f",
   "metadata": {},
   "source": [
    "* 편미분"
   ]
  },
  {
   "cell_type": "code",
   "execution_count": 11,
   "id": "206e5908-241f-4bb3-be7f-79aeb5abceab",
   "metadata": {},
   "outputs": [],
   "source": [
    "def function_2(x):\n",
    "    return x[0]**2 + x[1]**2\n",
    "    # or return np.sum(x**2)"
   ]
  },
  {
   "cell_type": "code",
   "execution_count": 12,
   "id": "7c54e44e-63b6-4b43-93b0-76d38bb704d2",
   "metadata": {},
   "outputs": [
    {
     "name": "stdout",
     "output_type": "stream",
     "text": [
      "5.999999999998451\n",
      "8.000000000000895\n"
     ]
    }
   ],
   "source": [
    "# x0 = 3, x1 = 4일 때, x0에 대한 편미분을 구하라.\n",
    "def function_tmp1(x0):\n",
    "    return x0**2 + 4.0**2.0\n",
    "\n",
    "\n",
    "# x0 = 3, x1 = 4일 때, x1에 대한 편미분을 구하라.\n",
    "def function_tmp2(x1):\n",
    "    return 3.0**2.0 + x1 * x1\n",
    "\n",
    "\n",
    "print(numerical_diff(function_tmp1, 3.0))  # 5.999999999998451\n",
    "print(numerical_diff(function_tmp2, 4.0))  # 8.000000000000895"
   ]
  },
  {
   "cell_type": "markdown",
   "id": "8ceb2553-1111-405a-8708-a71e708d8ccf",
   "metadata": {},
   "source": [
    "# 기울기"
   ]
  },
  {
   "cell_type": "code",
   "execution_count": 51,
   "id": "dcdaaf43-9679-43d9-bec8-d4bba786ee98",
   "metadata": {},
   "outputs": [
    {
     "name": "stdout",
     "output_type": "stream",
     "text": [
      "[6. 8.]\n",
      "[0. 4.]\n",
      "[6. 0.]\n"
     ]
    }
   ],
   "source": [
    "def numerical_gradient(f, x):\n",
    "    h = 1e-4\n",
    "    grad = np.zeros_like(x)  # x와 형상이 같은 배열을 생성\n",
    "\n",
    "    for idx in range(x.size):\n",
    "        tmp_val = x[idx]\n",
    "        # f(x+h) 계산\n",
    "        x[idx] = tmp_val + h\n",
    "        fxh1 = f(x)\n",
    "\n",
    "        # f(x-h) 계산\n",
    "        x[idx] = tmp_val - h\n",
    "        fxh2 = f(x)\n",
    "\n",
    "        grad[idx] = (fxh1 - fxh2) / (2 * h)\n",
    "        x[idx] = tmp_val  # 값 복원\n",
    "\n",
    "    return grad\n",
    "\n",
    "\n",
    "def function_2(x):\n",
    "    return x[0]**2 + x[1]**2\n",
    "    # or return np.sum(x**2)\n",
    "\n",
    "\n",
    "print(numerical_gradient(function_2, np.array([3.0, 4.0])))  # [ 6.  8.]\n",
    "print(numerical_gradient(function_2, np.array([0.0, 2.0])))  # [ 0.  4.]\n",
    "print(numerical_gradient(function_2, np.array([3.0, 0.0])))  # [ 6.  0.]"
   ]
  },
  {
   "cell_type": "markdown",
   "id": "f0d4e801-c54e-47fe-876a-68462f2866d0",
   "metadata": {},
   "source": [
    "# 경사하강법"
   ]
  },
  {
   "cell_type": "code",
   "execution_count": 40,
   "id": "c93ef0ff-366e-45d3-a5cc-1c39357121b5",
   "metadata": {},
   "outputs": [],
   "source": [
    "# f:최적화하려는 함수\n",
    "# init_x : 초깃값\n",
    "# lr : 학습률\n",
    "# step_num : 반복횟수\n",
    "def gradient_descent(f, init_x, lr=0.01, step_num=100):\n",
    "    x = init_x\n",
    "    x_history = []\n",
    "\n",
    "    for i in range(step_num):\n",
    "        x_history.append(x.copy())\n",
    "        grad = numerical_gradient(f, x) # 기울기 참\n",
    "        x -= lr * grad\n",
    "\n",
    "    return x, np.array(x_history)\n"
   ]
  },
  {
   "cell_type": "code",
   "execution_count": 41,
   "id": "106f3bec-bf78-441b-a50f-4a4fb2da726a",
   "metadata": {},
   "outputs": [
    {
     "name": "stdout",
     "output_type": "stream",
     "text": [
      "[-6.11110793e-10  8.14814391e-10]\n",
      "[-2.58983747e+13 -1.29524862e+12]\n",
      "[-2.99999994  3.99999992]\n"
     ]
    }
   ],
   "source": [
    "# 경사법으로 f(x0, x1) = x0² + x1²의 최솟값을 구해라\n",
    "init_x = np.array([-3.0, 4.0])\n",
    "x, x_history = gradient_descent(function_2, init_x, lr=0.1)\n",
    "print(x)  # [ -6.11110793e-10   8.14814391e-10]\n",
    "\n",
    "# 학습률이 너무 큼\n",
    "init_x = np.array([-3.0, 4.0])\n",
    "x, x_history = gradient_descent(function_2, init_x, lr=10.0)\n",
    "print(x)  # [ -2.58983747e+13  -1.29524862e+12] 발산함\n",
    "\n",
    "# 학습률이 너무 작음\n",
    "init_x = np.array([-3.0, 4.0])\n",
    "x, x_history = gradient_descent(function_2, init_x, lr=1e-10)\n",
    "print(x)  # [-2.99999994  3.99999992] 거의 변화 없음"
   ]
  },
  {
   "cell_type": "code",
   "execution_count": 42,
   "id": "1b69fa98-7046-44ac-b578-084bbe5c441d",
   "metadata": {},
   "outputs": [
    {
     "data": {
      "image/png": "[encoded data removed]",
      "text/plain": [
       "<Figure size 640x480 with 1 Axes>"
      ]
     },
     "metadata": {},
     "output_type": "display_data"
    }
   ],
   "source": [
    "init_x = np.array([-3.0, 4.0])\n",
    "x, x_history = gradient_descent(function_2, init_x, lr=0.1, step_num=20)\n",
    "\n",
    "plt.plot([-5, 5], [0, 0], '--b')\n",
    "plt.plot([0, 0], [-5, 5], '--b')\n",
    "plt.plot(x_history[:, 0], x_history[:, 1], 'o')\n",
    "\n",
    "plt.xlim(-3.5, 3.5)\n",
    "plt.ylim(-4.5, 4.5)\n",
    "plt.xlabel(\"X0\")\n",
    "plt.ylabel(\"X1\")\n",
    "plt.show()"
   ]
  },
  {
   "cell_type": "code",
   "execution_count": 63,
   "id": "063d190e-f16e-4f6e-9fb7-52f6a5ecf683",
   "metadata": {},
   "outputs": [
    {
     "name": "stdout",
     "output_type": "stream",
     "text": [
      "[[ 0.71286268 -0.47525369  0.16779726]\n",
      " [-0.07980532  0.4826064   0.50717728]]\n",
      "[0.35589282 0.14919354 0.55713791]\n",
      "2\n",
      "0.9093579054123646\n",
      "[[ 0.19761618  0.16071416 -0.35833034]\n",
      " [ 0.29642427  0.24107124 -0.53749551]]\n"
     ]
    }
   ],
   "source": [
    "import sys\n",
    "import os\n",
    "import numpy as np\n",
    "from common.functions import softmax, cross_entropy_error\n",
    "from common.gradient import numerical_gradient\n",
    "\n",
    "\n",
    "# 4.4.2 신경망에서의 기울기\n",
    "class simpleNet:\n",
    "    \"\"\"docstring for simpleNet\"\"\"\n",
    "    def __init__(self):\n",
    "        self.W = np.random.randn(2, 3)  # 정규분포로 초기화\n",
    "\n",
    "    def predict(self, x):\n",
    "        return np.dot(x, self.W)\n",
    "\n",
    "    def loss(self, x, t):\n",
    "        z = self.predict(x)\n",
    "        y = softmax(z)\n",
    "        loss = cross_entropy_error(y, t)\n",
    "\n",
    "        return loss\n",
    "\n",
    "\n",
    "net = simpleNet()\n",
    "print(net.W)  # 가중치 매개변수(랜덤)\n",
    "x = np.array([0.6, 0.9])\n",
    "p = net.predict(x)\n",
    "print(p)\n",
    "print(np.argmax(p))  # 최댓값의 인덱스\n",
    "\n",
    "t = np.array([0, 0, 1])  # 정답 레이블\n",
    "print(net.loss(x, t))\n",
    "\n",
    "def f(W):\n",
    "    return net.loss(x, t)\n",
    "\n",
    "dW = numerical_gradient(f, net.W)\n",
    "print(dW)"
   ]
  },
  {
   "cell_type": "markdown",
   "id": "507536d8-3f84-4eb9-b5dd-e1150a7049f9",
   "metadata": {},
   "source": [
    "# 학습 알고리즘 구현하기"
   ]
  },
  {
   "cell_type": "code",
   "execution_count": 64,
   "id": "01d0230c-9aa5-4e1a-8134-cebf583cb7c7",
   "metadata": {},
   "outputs": [],
   "source": [
    "import sys\n",
    "import os\n",
    "import numpy as np\n",
    "sys.path.append(os.pardir)\n",
    "from common.functions import sigmoid, softmax, cross_entropy_error\n",
    "from common.gradient import numerical_gradient\n",
    "\n",
    "class TwoLayerNet:\n",
    "    # 초기화를 수행한다.\n",
    "    def __init__(self, input_size, hidden_size, output_size,\n",
    "                 weight_init_std=0.01):\n",
    "        # 가중치 초기화\n",
    "        self.params = {}\n",
    "        self.params['W1'] = weight_init_std * \\\n",
    "            np.random.randn(input_size, hidden_size)\n",
    "        self.params['b1'] = np.zeros(hidden_size)\n",
    "        self.params['W2'] = weight_init_std * \\\n",
    "            np.random.randn(hidden_size, output_size)\n",
    "        self.params['b2'] = np.zeros(output_size)\n",
    "\n",
    "    # 예측(추론)을 수행한다.\n",
    "    def predict(self, x):\n",
    "        W1, W2 = self.params['W1'], self.params['W2']\n",
    "        b1, b2 = self.params['b1'], self.params['b2']\n",
    "\n",
    "        a1 = np.dot(x, W1) + b1\n",
    "        z1 = sigmoid(a1)\n",
    "        a2 = np.dot(z1, W2) + b2\n",
    "        y = softmax(a2)\n",
    "\n",
    "        return y\n",
    "\n",
    "    # 손실 함수의 값을 구한다.\n",
    "    # x : 입력데이터, t : 정답 레이블\n",
    "    def loss(self, x, t):\n",
    "        y = self.predict(x)\n",
    "\n",
    "        return cross_entropy_error(y, t)\n",
    "\n",
    "    # 정확도를 구한다.\n",
    "    def accuracy(self, x, t):\n",
    "        y = self.predict(x)\n",
    "        y = np.argmax(y, axis=1)\n",
    "        t = np.argmax(t, axis=1)\n",
    "\n",
    "        accuracy = np.sum(y == t) / float(x.shape[0])\n",
    "        return accuracy\n",
    "\n",
    "    # 가중치 매개변수의 기울기를 구한다.\n",
    "    def numerical_gradient(self, x, t):\n",
    "        loss_W = lambda W: self.loss(x, t)\n",
    "\n",
    "        grads = {}\n",
    "        grads['W1'] = numerical_gradient(loss_W, self.params['W1'])\n",
    "        grads['b1'] = numerical_gradient(loss_W, self.params['b1'])\n",
    "        grads['W2'] = numerical_gradient(loss_W, self.params['W2'])\n",
    "        grads['b2'] = numerical_gradient(loss_W, self.params['b2'])\n",
    "\n",
    "        return grads\n"
   ]
  },
  {
   "cell_type": "code",
   "execution_count": 65,
   "id": "d529f264-7089-45ed-b979-3bd598176a50",
   "metadata": {},
   "outputs": [
    {
     "name": "stdout",
     "output_type": "stream",
     "text": [
      "(784, 100)\n",
      "(100,)\n",
      "(100, 10)\n",
      "(10,)\n"
     ]
    }
   ],
   "source": [
    "net = TwoLayerNet(input_size=784, hidden_size=100, output_size=10)\n",
    "print(net.params['W1'].shape)  # (784, 100)\n",
    "print(net.params['b1'].shape)  # (100,)\n",
    "print(net.params['W2'].shape)  # (100, 10)\n",
    "print(net.params['b2'].shape)  # (10,)"
   ]
  },
  {
   "cell_type": "code",
   "execution_count": 66,
   "id": "745cfcd8-c47b-4f5a-944b-1bf92a57b3e3",
   "metadata": {},
   "outputs": [
    {
     "name": "stdout",
     "output_type": "stream",
     "text": [
      "(784, 100)\n",
      "(100,)\n",
      "(100, 10)\n",
      "(10,)\n"
     ]
    }
   ],
   "source": [
    "x = np.random.rand(100, 784)  # 더미 입력 데이터(100장 분량)\n",
    "t = np.random.rand(100, 10)   # 더미 정답 레이블(100장 분량)\n",
    "grads = net.numerical_gradient(x, t)  # 기울기 계산\n",
    "# 주의 : 실행하는데 아주 오래걸림\n",
    "print(grads['W1'].shape)  # (784, 100)\n",
    "print(grads['b1'].shape)  # (100,)\n",
    "print(grads['W2'].shape)  # (100, 10)\n",
    "print(grads['b2'].shape)  # (10,)"
   ]
  },
  {
   "cell_type": "markdown",
   "id": "6b17b10f-8532-4ca1-b7c7-ba0614c4a6d4",
   "metadata": {},
   "source": [
    "* 미니배치 학습 구현하기"
   ]
  },
  {
   "cell_type": "code",
   "execution_count": null,
   "id": "1032ae18-134a-42fe-aef6-7bd6c4d2d171",
   "metadata": {},
   "outputs": [],
   "source": [
    "import numpy as np\n",
    "import sys\n",
    "import os\n",
    "sys.path.append(os.pardir)\n",
    "from dataset.mnist import load_mnist\n",
    "\n",
    "(x_train, t_train), (x_test, t_test) = \\\n",
    "    load_mnist(normalize=True, one_hot_label=False)\n",
    "\n",
    "# 하이퍼 파라메터\n",
    "iters_num = 1000  # 반복횟수\n",
    "train_size = x_train.shape[0]\n",
    "batch_size = 100  # 미니배치 크기\n",
    "learning_rate = 0.1\n",
    "network = TwoLayerNet(input_size=784, hidden_size=50, output_size=10)\n",
    "\n",
    "train_loss_list = []\n",
    "train_acc_list = []\n",
    "test_acc_list = []\n",
    "\n",
    "# 1에폭당 반복 수\n",
    "iter_per_epoch = max(train_size / batch_size, 1)\n",
    "\n",
    "for i in range(iters_num):\n",
    "    print(i)\n",
    "    # 미니배치 획득\n",
    "    batch_mask = np.random.choice(train_size, batch_size)\n",
    "    x_batch = x_train[batch_mask]\n",
    "    t_batch = t_train[batch_mask]\n",
    "\n",
    "    # 기울기 계산\n",
    "    grad = network.numerical_gradient(x_batch, t_batch)\n",
    "    # grad = network.gradient(x_batch, t_batch)  # 다음 장에서 구현할 더 빠른 방법!\n",
    "\n",
    "    # 매개변수 갱신\n",
    "    for key in ('W1', 'b1', 'W2', 'b2'):\n",
    "        network.params[key] -= learning_rate * grad[key]\n",
    "\n",
    "    # 학습 경과 기록\n",
    "    loss = network.loss(x_batch, t_batch)\n",
    "    train_loss_list.append(loss)\n",
    "     # 1에폭 당 정확도 계산\n",
    "    if i % iter_per_epoch == 0:\n",
    "        t_train = np.eye(10)[t_train]  # t_train은 1차원 배열이라고 가정합니다.\n",
    "        t_test = np.eye(10)[t_test]  # t_test는 1차원 배열이라고 가정합니다.\n",
    "        train_acc = network.accuracy(x_train, t_train)\n",
    "        test_acc = network.accuracy(x_test, t_test)\n",
    "        train_acc_list.append(train_acc)\n",
    "        test_acc_list.append(test_acc)\n",
    "        print(\"train acc, test acc | \"\n",
    "              + str(train_acc) + \", \" + str(test_acc))\n",
    "    print(train_loss_list)"
   ]
  },
  {
   "cell_type": "code",
   "execution_count": null,
   "id": "e5c08b0f-94c6-4336-b485-4d46721cf32c",
   "metadata": {},
   "outputs": [],
   "source": []
  }
 ],
 "metadata": {
  "kernelspec": {
   "display_name": "Python 3 (ipykernel)",
   "language": "python",
   "name": "python3"
  },
  "language_info": {
   "codemirror_mode": {
    "name": "ipython",
    "version": 3
   },
   "file_extension": ".py",
   "mimetype": "text/x-python",
   "name": "python",
   "nbconvert_exporter": "python",
   "pygments_lexer": "ipython3",
   "version": "3.11.5"
  }
 },
 "nbformat": 4,
 "nbformat_minor": 5
}
